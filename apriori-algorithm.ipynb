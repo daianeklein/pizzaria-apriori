{
 "cells": [
  {
   "cell_type": "markdown",
   "id": "a7011f4f",
   "metadata": {},
   "source": [
    "# APRIORI"
   ]
  },
  {
   "cell_type": "markdown",
   "id": "e2f717f5",
   "metadata": {},
   "source": [
    "## ALGORITMO DE ASSOCIAÇÃO"
   ]
  },
  {
   "cell_type": "code",
   "execution_count": null,
   "id": "6290d352",
   "metadata": {},
   "outputs": [],
   "source": []
  },
  {
   "cell_type": "markdown",
   "id": "52b2a330",
   "metadata": {},
   "source": [
    "# LIB's"
   ]
  },
  {
   "cell_type": "code",
   "execution_count": 1,
   "id": "00fb972e",
   "metadata": {
    "ExecuteTime": {
     "end_time": "2021-08-20T18:24:09.028914Z",
     "start_time": "2021-08-20T18:24:07.427367Z"
    }
   },
   "outputs": [],
   "source": [
    "import pandas as pd\n",
    "import numpy as np\n",
    "import seaborn as sns\n",
    "\n",
    "import matplotlib.pyplot as plt\n",
    "%matplotlib inline\n",
    "\n",
    "import datetime\n",
    "\n",
    "from apyori import apriori"
   ]
  },
  {
   "cell_type": "markdown",
   "id": "2b36d8cc",
   "metadata": {},
   "source": [
    "# DATASET"
   ]
  },
  {
   "cell_type": "code",
   "execution_count": 2,
   "id": "1eddec47",
   "metadata": {
    "ExecuteTime": {
     "end_time": "2021-08-20T18:24:09.061708Z",
     "start_time": "2021-08-20T18:24:09.031173Z"
    }
   },
   "outputs": [
    {
     "data": {
      "text/html": [
       "<div>\n",
       "<style scoped>\n",
       "    .dataframe tbody tr th:only-of-type {\n",
       "        vertical-align: middle;\n",
       "    }\n",
       "\n",
       "    .dataframe tbody tr th {\n",
       "        vertical-align: top;\n",
       "    }\n",
       "\n",
       "    .dataframe thead th {\n",
       "        text-align: right;\n",
       "    }\n",
       "</style>\n",
       "<table border=\"1\" class=\"dataframe\">\n",
       "  <thead>\n",
       "    <tr style=\"text-align: right;\">\n",
       "      <th></th>\n",
       "      <th>data_pedido</th>\n",
       "      <th>hora_pedido</th>\n",
       "      <th>tipo_entrega</th>\n",
       "      <th>tempo_minutos</th>\n",
       "      <th>borda</th>\n",
       "      <th>refrigerante</th>\n",
       "      <th>Sobremesa</th>\n",
       "      <th>valor_pizza</th>\n",
       "      <th>valor_total</th>\n",
       "    </tr>\n",
       "  </thead>\n",
       "  <tbody>\n",
       "    <tr>\n",
       "      <th>0</th>\n",
       "      <td>29/10/2011</td>\n",
       "      <td>21:00:00</td>\n",
       "      <td>Entrega</td>\n",
       "      <td>55</td>\n",
       "      <td>N</td>\n",
       "      <td>N</td>\n",
       "      <td>S</td>\n",
       "      <td>38.5</td>\n",
       "      <td>38.5</td>\n",
       "    </tr>\n",
       "    <tr>\n",
       "      <th>1</th>\n",
       "      <td>29/10/2011</td>\n",
       "      <td>21:10:00</td>\n",
       "      <td>Entrega</td>\n",
       "      <td>45</td>\n",
       "      <td>N</td>\n",
       "      <td>N</td>\n",
       "      <td>S</td>\n",
       "      <td>38.5</td>\n",
       "      <td>38.5</td>\n",
       "    </tr>\n",
       "    <tr>\n",
       "      <th>2</th>\n",
       "      <td>30/10/2011</td>\n",
       "      <td>20:17:00</td>\n",
       "      <td>Entrega</td>\n",
       "      <td>51</td>\n",
       "      <td>N</td>\n",
       "      <td>N</td>\n",
       "      <td>S</td>\n",
       "      <td>38.5</td>\n",
       "      <td>38.5</td>\n",
       "    </tr>\n",
       "    <tr>\n",
       "      <th>3</th>\n",
       "      <td>01/11/2011</td>\n",
       "      <td>21:10:00</td>\n",
       "      <td>Entrega</td>\n",
       "      <td>50</td>\n",
       "      <td>N</td>\n",
       "      <td>S</td>\n",
       "      <td>S</td>\n",
       "      <td>34.0</td>\n",
       "      <td>38.5</td>\n",
       "    </tr>\n",
       "    <tr>\n",
       "      <th>4</th>\n",
       "      <td>04/11/2011</td>\n",
       "      <td>20:37:00</td>\n",
       "      <td>Entrega</td>\n",
       "      <td>33</td>\n",
       "      <td>N</td>\n",
       "      <td>S</td>\n",
       "      <td>S</td>\n",
       "      <td>34.0</td>\n",
       "      <td>38.5</td>\n",
       "    </tr>\n",
       "  </tbody>\n",
       "</table>\n",
       "</div>"
      ],
      "text/plain": [
       "  data_pedido hora_pedido tipo_entrega  tempo_minutos borda refrigerante  \\\n",
       "0  29/10/2011    21:00:00      Entrega             55     N            N   \n",
       "1  29/10/2011    21:10:00      Entrega             45     N            N   \n",
       "2  30/10/2011    20:17:00      Entrega             51     N            N   \n",
       "3  01/11/2011    21:10:00      Entrega             50     N            S   \n",
       "4  04/11/2011    20:37:00      Entrega             33     N            S   \n",
       "\n",
       "  Sobremesa  valor_pizza  valor_total  \n",
       "0         S         38.5         38.5  \n",
       "1         S         38.5         38.5  \n",
       "2         S         38.5         38.5  \n",
       "3         S         34.0         38.5  \n",
       "4         S         34.0         38.5  "
      ]
     },
     "execution_count": 2,
     "metadata": {},
     "output_type": "execute_result"
    }
   ],
   "source": [
    "df = pd.read_csv('data.csv', sep = ';', decimal = ',')\n",
    "df.head()"
   ]
  },
  {
   "cell_type": "code",
   "execution_count": 3,
   "id": "9d3d2f56",
   "metadata": {
    "ExecuteTime": {
     "end_time": "2021-08-20T18:24:09.072106Z",
     "start_time": "2021-08-20T18:24:09.065015Z"
    }
   },
   "outputs": [
    {
     "data": {
      "text/plain": [
       "(1000, 9)"
      ]
     },
     "execution_count": 3,
     "metadata": {},
     "output_type": "execute_result"
    }
   ],
   "source": [
    "df.shape"
   ]
  },
  {
   "cell_type": "code",
   "execution_count": 4,
   "id": "f9b7ae45",
   "metadata": {
    "ExecuteTime": {
     "end_time": "2021-08-20T18:24:09.084240Z",
     "start_time": "2021-08-20T18:24:09.075914Z"
    },
    "scrolled": true
   },
   "outputs": [
    {
     "data": {
      "text/plain": [
       "data_pedido       object\n",
       "hora_pedido       object\n",
       "tipo_entrega      object\n",
       "tempo_minutos      int64\n",
       "borda             object\n",
       "refrigerante      object\n",
       "Sobremesa         object\n",
       "valor_pizza      float64\n",
       "valor_total      float64\n",
       "dtype: object"
      ]
     },
     "execution_count": 4,
     "metadata": {},
     "output_type": "execute_result"
    }
   ],
   "source": [
    "df.dtypes"
   ]
  },
  {
   "cell_type": "markdown",
   "id": "5d818db3",
   "metadata": {},
   "source": [
    "## VARIÁVEIS DE TEMPO"
   ]
  },
  {
   "cell_type": "code",
   "execution_count": 5,
   "id": "f9fdd241",
   "metadata": {
    "ExecuteTime": {
     "end_time": "2021-08-20T18:24:09.098330Z",
     "start_time": "2021-08-20T18:24:09.087016Z"
    }
   },
   "outputs": [],
   "source": [
    "# alterando o tipo de dado da variavel data_pedido\n",
    "df['data_pedido'] = pd.to_datetime(df['data_pedido'], format = ('%d/%m/%Y'))\n",
    "\n",
    "# criando coluna dia da semana\n",
    "df['dia_semana'] = df['data_pedido'].dt.day_name()"
   ]
  },
  {
   "cell_type": "code",
   "execution_count": 6,
   "id": "b688131b",
   "metadata": {
    "ExecuteTime": {
     "end_time": "2021-08-20T18:24:09.109460Z",
     "start_time": "2021-08-20T18:24:09.101253Z"
    }
   },
   "outputs": [
    {
     "name": "stdout",
     "output_type": "stream",
     "text": [
      "18:00:00 23:42:00\n"
     ]
    }
   ],
   "source": [
    "# horário dos pedidos\n",
    "print(df['hora_pedido'].min(), df['hora_pedido'].max())"
   ]
  },
  {
   "cell_type": "code",
   "execution_count": 7,
   "id": "cbabf7ba",
   "metadata": {
    "ExecuteTime": {
     "end_time": "2021-08-20T18:24:09.126201Z",
     "start_time": "2021-08-20T18:24:09.112761Z"
    }
   },
   "outputs": [
    {
     "data": {
      "text/plain": [
       "20    315\n",
       "21    241\n",
       "19    166\n",
       "22    130\n",
       "18    101\n",
       "23     47\n",
       "Name: horario, dtype: int64"
      ]
     },
     "execution_count": 7,
     "metadata": {},
     "output_type": "execute_result"
    }
   ],
   "source": [
    "# 'extraindo' somente a hora\n",
    "df['horario'] = df['hora_pedido'].str.slice(start=0, stop = 2)\n",
    "\n",
    "#contando a qt de ocorrencias\n",
    "df['horario'].value_counts()"
   ]
  },
  {
   "cell_type": "code",
   "execution_count": 8,
   "id": "f00b9607",
   "metadata": {
    "ExecuteTime": {
     "end_time": "2021-08-20T18:24:09.144904Z",
     "start_time": "2021-08-20T18:24:09.132020Z"
    }
   },
   "outputs": [
    {
     "data": {
      "text/plain": [
       "pico - alto     556\n",
       "pico - medio    296\n",
       "pico - baixo    148\n",
       "Name: horario, dtype: int64"
      ]
     },
     "execution_count": 8,
     "metadata": {},
     "output_type": "execute_result"
    }
   ],
   "source": [
    "# notamos que a pizzaria funciona por 6 horas. Dividindo por cada duas horas,\n",
    "# podemos categorizar os horários como horário de pico alto, medio e baixo\n",
    "\n",
    "pico_dict = ({ '20' : 'pico - alto',\n",
    "             '21' : 'pico - alto',\n",
    "             '19' : 'pico - medio',\n",
    "             '22' : 'pico - medio',\n",
    "             '18' : 'pico - baixo',\n",
    "             '23' : 'pico - baixo'})\n",
    "\n",
    "df['horario'] = df['horario'].map(pico_dict)\n",
    "\n",
    "df['horario'].value_counts()"
   ]
  },
  {
   "cell_type": "markdown",
   "id": "5cfa7ad7",
   "metadata": {},
   "source": [
    "## VARIÁVEL 'BORDA'"
   ]
  },
  {
   "cell_type": "code",
   "execution_count": 9,
   "id": "61df0efd",
   "metadata": {
    "ExecuteTime": {
     "end_time": "2021-08-20T18:24:09.157236Z",
     "start_time": "2021-08-20T18:24:09.148483Z"
    }
   },
   "outputs": [
    {
     "data": {
      "text/plain": [
       "N          849\n",
       "S          126\n",
       "Borda S     18\n",
       "Borda N      7\n",
       "Name: borda, dtype: int64"
      ]
     },
     "execution_count": 9,
     "metadata": {},
     "output_type": "execute_result"
    }
   ],
   "source": [
    "df['borda'].value_counts()"
   ]
  },
  {
   "cell_type": "code",
   "execution_count": 10,
   "id": "4559c4a6",
   "metadata": {
    "ExecuteTime": {
     "end_time": "2021-08-20T18:24:09.168769Z",
     "start_time": "2021-08-20T18:24:09.159734Z"
    }
   },
   "outputs": [],
   "source": [
    "# tratando a variável borda\n",
    "df['borda'] = df['borda'].apply(lambda x: 'N' if x == 'Borda N'\n",
    "                 else x)\n",
    "\n",
    "df['borda'] = df['borda'].apply(lambda x: 'S' if x == 'Borda S'\n",
    "                 else x)"
   ]
  },
  {
   "cell_type": "markdown",
   "id": "abcd52cc",
   "metadata": {},
   "source": [
    "# REFRIGERANTE, BORDA E SOBREMESA"
   ]
  },
  {
   "cell_type": "code",
   "execution_count": 11,
   "id": "a021c0e9",
   "metadata": {
    "ExecuteTime": {
     "end_time": "2021-08-20T18:24:09.181521Z",
     "start_time": "2021-08-20T18:24:09.171556Z"
    }
   },
   "outputs": [],
   "source": [
    "df['borda'] = df['borda'].apply(lambda x: 'borda N' if x == 'N'\n",
    "                 else x)\n",
    "\n",
    "df['borda'] = df['borda'].apply(lambda x: 'borda S' if x == 'S'\n",
    "                 else x)"
   ]
  },
  {
   "cell_type": "code",
   "execution_count": 12,
   "id": "26baa660",
   "metadata": {
    "ExecuteTime": {
     "end_time": "2021-08-20T18:24:09.193612Z",
     "start_time": "2021-08-20T18:24:09.185164Z"
    }
   },
   "outputs": [],
   "source": [
    "df['refrigerante'] = df['refrigerante'].apply(lambda x: 'refrigerante N' if x == 'N'\n",
    "                 else x)\n",
    "\n",
    "df['refrigerante'] = df['refrigerante'].apply(lambda x: 'refrigerante S' if x == 'S'\n",
    "                 else x)"
   ]
  },
  {
   "cell_type": "code",
   "execution_count": 13,
   "id": "2f9970e7",
   "metadata": {
    "ExecuteTime": {
     "end_time": "2021-08-20T18:24:09.204106Z",
     "start_time": "2021-08-20T18:24:09.197049Z"
    }
   },
   "outputs": [],
   "source": [
    "df['Sobremesa'] = df['Sobremesa'].apply(lambda x: 'sobremesa N' if x == 'N'\n",
    "                 else x)\n",
    "\n",
    "df['Sobremesa'] = df['Sobremesa'].apply(lambda x: 'sobremesa S' if x == 'S'\n",
    "                 else x)"
   ]
  },
  {
   "cell_type": "markdown",
   "id": "691c48b6",
   "metadata": {},
   "source": [
    "## VALOR DA PIZZA"
   ]
  },
  {
   "cell_type": "code",
   "execution_count": 14,
   "id": "2a1323cb",
   "metadata": {
    "ExecuteTime": {
     "end_time": "2021-08-20T18:24:09.212699Z",
     "start_time": "2021-08-20T18:24:09.207144Z"
    }
   },
   "outputs": [
    {
     "name": "stdout",
     "output_type": "stream",
     "text": [
      "10.0 41.0\n"
     ]
    }
   ],
   "source": [
    "print(df['valor_pizza'].min(), df['valor_pizza'].max() )"
   ]
  },
  {
   "cell_type": "code",
   "execution_count": 15,
   "id": "2ebdfd39",
   "metadata": {
    "ExecuteTime": {
     "end_time": "2021-08-20T18:24:09.227333Z",
     "start_time": "2021-08-20T18:24:09.215785Z"
    }
   },
   "outputs": [],
   "source": [
    "df['range_valor_pizza'] = pd.cut( x = df['valor_pizza'], bins = 5, include_lowest = True)"
   ]
  },
  {
   "cell_type": "code",
   "execution_count": 16,
   "id": "fba8d4ee",
   "metadata": {
    "ExecuteTime": {
     "end_time": "2021-08-20T18:24:09.240592Z",
     "start_time": "2021-08-20T18:24:09.230578Z"
    }
   },
   "outputs": [
    {
     "name": "stdout",
     "output_type": "stream",
     "text": [
      "(34.8, 41.0]\n",
      "(28.6, 34.8]\n",
      "(22.4, 28.6]\n",
      "(16.2, 22.4]\n",
      "(9.968, 16.2]\n"
     ]
    }
   ],
   "source": [
    "for f in df['range_valor_pizza'].unique():\n",
    "    print(f)"
   ]
  },
  {
   "cell_type": "code",
   "execution_count": 17,
   "id": "25944945",
   "metadata": {
    "ExecuteTime": {
     "end_time": "2021-08-20T18:24:09.269759Z",
     "start_time": "2021-08-20T18:24:09.243845Z"
    }
   },
   "outputs": [
    {
     "data": {
      "text/html": [
       "<div>\n",
       "<style scoped>\n",
       "    .dataframe tbody tr th:only-of-type {\n",
       "        vertical-align: middle;\n",
       "    }\n",
       "\n",
       "    .dataframe tbody tr th {\n",
       "        vertical-align: top;\n",
       "    }\n",
       "\n",
       "    .dataframe thead th {\n",
       "        text-align: right;\n",
       "    }\n",
       "</style>\n",
       "<table border=\"1\" class=\"dataframe\">\n",
       "  <thead>\n",
       "    <tr style=\"text-align: right;\">\n",
       "      <th></th>\n",
       "      <th>data_pedido</th>\n",
       "      <th>hora_pedido</th>\n",
       "      <th>tipo_entrega</th>\n",
       "      <th>tempo_minutos</th>\n",
       "      <th>borda</th>\n",
       "      <th>refrigerante</th>\n",
       "      <th>Sobremesa</th>\n",
       "      <th>valor_pizza</th>\n",
       "      <th>valor_total</th>\n",
       "      <th>dia_semana</th>\n",
       "      <th>horario</th>\n",
       "      <th>range_valor_pizza</th>\n",
       "    </tr>\n",
       "  </thead>\n",
       "  <tbody>\n",
       "    <tr>\n",
       "      <th>0</th>\n",
       "      <td>2011-10-29</td>\n",
       "      <td>21:00:00</td>\n",
       "      <td>Entrega</td>\n",
       "      <td>55</td>\n",
       "      <td>borda N</td>\n",
       "      <td>refrigerante N</td>\n",
       "      <td>sobremesa S</td>\n",
       "      <td>38.5</td>\n",
       "      <td>38.5</td>\n",
       "      <td>Saturday</td>\n",
       "      <td>pico - alto</td>\n",
       "      <td>(34.8, 41.0]</td>\n",
       "    </tr>\n",
       "    <tr>\n",
       "      <th>1</th>\n",
       "      <td>2011-10-29</td>\n",
       "      <td>21:10:00</td>\n",
       "      <td>Entrega</td>\n",
       "      <td>45</td>\n",
       "      <td>borda N</td>\n",
       "      <td>refrigerante N</td>\n",
       "      <td>sobremesa S</td>\n",
       "      <td>38.5</td>\n",
       "      <td>38.5</td>\n",
       "      <td>Saturday</td>\n",
       "      <td>pico - alto</td>\n",
       "      <td>(34.8, 41.0]</td>\n",
       "    </tr>\n",
       "    <tr>\n",
       "      <th>2</th>\n",
       "      <td>2011-10-30</td>\n",
       "      <td>20:17:00</td>\n",
       "      <td>Entrega</td>\n",
       "      <td>51</td>\n",
       "      <td>borda N</td>\n",
       "      <td>refrigerante N</td>\n",
       "      <td>sobremesa S</td>\n",
       "      <td>38.5</td>\n",
       "      <td>38.5</td>\n",
       "      <td>Sunday</td>\n",
       "      <td>pico - alto</td>\n",
       "      <td>(34.8, 41.0]</td>\n",
       "    </tr>\n",
       "    <tr>\n",
       "      <th>3</th>\n",
       "      <td>2011-11-01</td>\n",
       "      <td>21:10:00</td>\n",
       "      <td>Entrega</td>\n",
       "      <td>50</td>\n",
       "      <td>borda N</td>\n",
       "      <td>refrigerante S</td>\n",
       "      <td>sobremesa S</td>\n",
       "      <td>34.0</td>\n",
       "      <td>38.5</td>\n",
       "      <td>Tuesday</td>\n",
       "      <td>pico - alto</td>\n",
       "      <td>(28.6, 34.8]</td>\n",
       "    </tr>\n",
       "    <tr>\n",
       "      <th>4</th>\n",
       "      <td>2011-11-04</td>\n",
       "      <td>20:37:00</td>\n",
       "      <td>Entrega</td>\n",
       "      <td>33</td>\n",
       "      <td>borda N</td>\n",
       "      <td>refrigerante S</td>\n",
       "      <td>sobremesa S</td>\n",
       "      <td>34.0</td>\n",
       "      <td>38.5</td>\n",
       "      <td>Friday</td>\n",
       "      <td>pico - alto</td>\n",
       "      <td>(28.6, 34.8]</td>\n",
       "    </tr>\n",
       "  </tbody>\n",
       "</table>\n",
       "</div>"
      ],
      "text/plain": [
       "  data_pedido hora_pedido tipo_entrega  tempo_minutos    borda  \\\n",
       "0  2011-10-29    21:00:00      Entrega             55  borda N   \n",
       "1  2011-10-29    21:10:00      Entrega             45  borda N   \n",
       "2  2011-10-30    20:17:00      Entrega             51  borda N   \n",
       "3  2011-11-01    21:10:00      Entrega             50  borda N   \n",
       "4  2011-11-04    20:37:00      Entrega             33  borda N   \n",
       "\n",
       "     refrigerante    Sobremesa  valor_pizza  valor_total dia_semana  \\\n",
       "0  refrigerante N  sobremesa S         38.5         38.5   Saturday   \n",
       "1  refrigerante N  sobremesa S         38.5         38.5   Saturday   \n",
       "2  refrigerante N  sobremesa S         38.5         38.5     Sunday   \n",
       "3  refrigerante S  sobremesa S         34.0         38.5    Tuesday   \n",
       "4  refrigerante S  sobremesa S         34.0         38.5     Friday   \n",
       "\n",
       "       horario range_valor_pizza  \n",
       "0  pico - alto      (34.8, 41.0]  \n",
       "1  pico - alto      (34.8, 41.0]  \n",
       "2  pico - alto      (34.8, 41.0]  \n",
       "3  pico - alto      (28.6, 34.8]  \n",
       "4  pico - alto      (28.6, 34.8]  "
      ]
     },
     "execution_count": 17,
     "metadata": {},
     "output_type": "execute_result"
    }
   ],
   "source": [
    "df.head()"
   ]
  },
  {
   "cell_type": "code",
   "execution_count": 18,
   "id": "7bd4530d",
   "metadata": {
    "ExecuteTime": {
     "end_time": "2021-08-20T18:24:09.299393Z",
     "start_time": "2021-08-20T18:24:09.273075Z"
    }
   },
   "outputs": [
    {
     "data": {
      "text/html": [
       "<div>\n",
       "<style scoped>\n",
       "    .dataframe tbody tr th:only-of-type {\n",
       "        vertical-align: middle;\n",
       "    }\n",
       "\n",
       "    .dataframe tbody tr th {\n",
       "        vertical-align: top;\n",
       "    }\n",
       "\n",
       "    .dataframe thead th {\n",
       "        text-align: right;\n",
       "    }\n",
       "</style>\n",
       "<table border=\"1\" class=\"dataframe\">\n",
       "  <thead>\n",
       "    <tr style=\"text-align: right;\">\n",
       "      <th></th>\n",
       "      <th>tipo_entrega</th>\n",
       "      <th>borda</th>\n",
       "      <th>refrigerante</th>\n",
       "      <th>Sobremesa</th>\n",
       "      <th>dia_semana</th>\n",
       "      <th>horario</th>\n",
       "      <th>range_valor_pizza</th>\n",
       "    </tr>\n",
       "  </thead>\n",
       "  <tbody>\n",
       "    <tr>\n",
       "      <th>0</th>\n",
       "      <td>Entrega</td>\n",
       "      <td>borda N</td>\n",
       "      <td>refrigerante N</td>\n",
       "      <td>sobremesa S</td>\n",
       "      <td>Saturday</td>\n",
       "      <td>pico - alto</td>\n",
       "      <td>(34.8, 41.0]</td>\n",
       "    </tr>\n",
       "    <tr>\n",
       "      <th>1</th>\n",
       "      <td>Entrega</td>\n",
       "      <td>borda N</td>\n",
       "      <td>refrigerante N</td>\n",
       "      <td>sobremesa S</td>\n",
       "      <td>Saturday</td>\n",
       "      <td>pico - alto</td>\n",
       "      <td>(34.8, 41.0]</td>\n",
       "    </tr>\n",
       "    <tr>\n",
       "      <th>2</th>\n",
       "      <td>Entrega</td>\n",
       "      <td>borda N</td>\n",
       "      <td>refrigerante N</td>\n",
       "      <td>sobremesa S</td>\n",
       "      <td>Sunday</td>\n",
       "      <td>pico - alto</td>\n",
       "      <td>(34.8, 41.0]</td>\n",
       "    </tr>\n",
       "    <tr>\n",
       "      <th>3</th>\n",
       "      <td>Entrega</td>\n",
       "      <td>borda N</td>\n",
       "      <td>refrigerante S</td>\n",
       "      <td>sobremesa S</td>\n",
       "      <td>Tuesday</td>\n",
       "      <td>pico - alto</td>\n",
       "      <td>(28.6, 34.8]</td>\n",
       "    </tr>\n",
       "    <tr>\n",
       "      <th>4</th>\n",
       "      <td>Entrega</td>\n",
       "      <td>borda N</td>\n",
       "      <td>refrigerante S</td>\n",
       "      <td>sobremesa S</td>\n",
       "      <td>Friday</td>\n",
       "      <td>pico - alto</td>\n",
       "      <td>(28.6, 34.8]</td>\n",
       "    </tr>\n",
       "  </tbody>\n",
       "</table>\n",
       "</div>"
      ],
      "text/plain": [
       "  tipo_entrega    borda    refrigerante    Sobremesa dia_semana      horario  \\\n",
       "0      Entrega  borda N  refrigerante N  sobremesa S   Saturday  pico - alto   \n",
       "1      Entrega  borda N  refrigerante N  sobremesa S   Saturday  pico - alto   \n",
       "2      Entrega  borda N  refrigerante N  sobremesa S     Sunday  pico - alto   \n",
       "3      Entrega  borda N  refrigerante S  sobremesa S    Tuesday  pico - alto   \n",
       "4      Entrega  borda N  refrigerante S  sobremesa S     Friday  pico - alto   \n",
       "\n",
       "  range_valor_pizza  \n",
       "0      (34.8, 41.0]  \n",
       "1      (34.8, 41.0]  \n",
       "2      (34.8, 41.0]  \n",
       "3      (28.6, 34.8]  \n",
       "4      (28.6, 34.8]  "
      ]
     },
     "execution_count": 18,
     "metadata": {},
     "output_type": "execute_result"
    }
   ],
   "source": [
    "# Selecionando as colunas\n",
    "df1 = df[['tipo_entrega', 'borda', 'refrigerante', 'Sobremesa', 'dia_semana', 'horario', 'range_valor_pizza']]\n",
    "\n",
    "df1.head()"
   ]
  },
  {
   "cell_type": "code",
   "execution_count": 19,
   "id": "a84d8586",
   "metadata": {
    "ExecuteTime": {
     "end_time": "2021-08-20T18:24:23.004163Z",
     "start_time": "2021-08-20T18:24:09.302724Z"
    }
   },
   "outputs": [],
   "source": [
    "## Tranformando o DataFrame em uma lista\n",
    "\n",
    "dados = []\n",
    "\n",
    "## range \"ap\" == tamanho do dataframe\n",
    "## 0, 6 == colunas\n",
    "for i in range(len(df1)):\n",
    "    dados.append([str(df1.values[i, j]) for j in range(0, 7)])\n",
    "\n",
    "\n",
    "## Configurando os parametros\n",
    "## Suporte == 20%\n",
    "    regras = apriori(dados, min_support = 0.02, min_confidence = 0.2, min_lift = 2, min_lenght = 2)\n",
    "\n",
    "result = list(regras)\n",
    "result2 = [list(x) for x in result]\n"
   ]
  },
  {
   "cell_type": "code",
   "execution_count": 21,
   "id": "1bbbf3ad",
   "metadata": {
    "ExecuteTime": {
     "end_time": "2021-08-20T18:24:55.854896Z",
     "start_time": "2021-08-20T18:24:55.843899Z"
    }
   },
   "outputs": [
    {
     "data": {
      "text/plain": [
       "[[[frozenset({'(34.8, 41.0]'}),\n",
       "   frozenset({'sobremesa S'}),\n",
       "   0.48936170212765956,\n",
       "   7.303906001905366],\n",
       "  [frozenset({'sobremesa S'}),\n",
       "   frozenset({'(34.8, 41.0]'}),\n",
       "   0.34328358208955223,\n",
       "   7.303906001905367]],\n",
       " [[frozenset({'borda S'}),\n",
       "   frozenset({'sobremesa S'}),\n",
       "   0.2430555555555556,\n",
       "   3.6276948590381433],\n",
       "  [frozenset({'sobremesa S'}),\n",
       "   frozenset({'borda S'}),\n",
       "   0.5223880597014926,\n",
       "   3.6276948590381433]],\n",
       " [[frozenset({'refrigerante S'}),\n",
       "   frozenset({'sobremesa S'}),\n",
       "   0.2803030303030303,\n",
       "   4.1836273179556756],\n",
       "  [frozenset({'sobremesa S'}),\n",
       "   frozenset({'refrigerante S'}),\n",
       "   0.5522388059701492,\n",
       "   4.1836273179556756]],\n",
       " [[frozenset({'(16.2, 22.4]'}),\n",
       "   frozenset({'Buscar', 'pico - medio'}),\n",
       "   0.2596685082872928,\n",
       "   2.0608611768832765],\n",
       "  [frozenset({'Buscar', 'pico - medio'}),\n",
       "   frozenset({'(16.2, 22.4]'}),\n",
       "   0.373015873015873,\n",
       "   2.0608611768832765]],\n",
       " [[frozenset({'(16.2, 22.4]', 'refrigerante S'}),\n",
       "   frozenset({'Buscar'}),\n",
       "   0.9523809523809523,\n",
       "   2.2461814914645104],\n",
       "  [frozenset({'Buscar', 'refrigerante S'}),\n",
       "   frozenset({'(16.2, 22.4]'}),\n",
       "   0.5128205128205129,\n",
       "   2.8332625017707893]],\n",
       " [[frozenset({'(34.8, 41.0]'}),\n",
       "   frozenset({'Entrega', 'sobremesa S'}),\n",
       "   0.425531914893617,\n",
       "   9.671179883945841],\n",
       "  [frozenset({'sobremesa S'}),\n",
       "   frozenset({'(34.8, 41.0]', 'Entrega'}),\n",
       "   0.29850746268656714,\n",
       "   8.528784648187631],\n",
       "  [frozenset({'(34.8, 41.0]', 'Entrega'}),\n",
       "   frozenset({'sobremesa S'}),\n",
       "   0.5714285714285714,\n",
       "   8.528784648187631],\n",
       "  [frozenset({'Entrega', 'sobremesa S'}),\n",
       "   frozenset({'(34.8, 41.0]'}),\n",
       "   0.4545454545454546,\n",
       "   9.671179883945841]],\n",
       " [[frozenset({'(34.8, 41.0]'}),\n",
       "   frozenset({'borda N', 'sobremesa S'}),\n",
       "   0.425531914893617,\n",
       "   13.297872340425531],\n",
       "  [frozenset({'sobremesa S'}),\n",
       "   frozenset({'(34.8, 41.0]', 'borda N'}),\n",
       "   0.29850746268656714,\n",
       "   6.942034015966678],\n",
       "  [frozenset({'(34.8, 41.0]', 'borda N'}),\n",
       "   frozenset({'sobremesa S'}),\n",
       "   0.4651162790697675,\n",
       "   6.942034015966678],\n",
       "  [frozenset({'borda N', 'sobremesa S'}),\n",
       "   frozenset({'(34.8, 41.0]'}),\n",
       "   0.625,\n",
       "   13.297872340425531]]]"
      ]
     },
     "execution_count": 21,
     "metadata": {},
     "output_type": "execute_result"
    }
   ],
   "source": [
    "df2 = []\n",
    "\n",
    "for j in range(0,7): ## quantidade de regras\n",
    "    df2.append([list(x) for x in result2[j][2]])\n",
    "    \n",
    "df2"
   ]
  },
  {
   "cell_type": "markdown",
   "id": "b969dff2",
   "metadata": {},
   "source": [
    "# RESULTADO"
   ]
  },
  {
   "cell_type": "code",
   "execution_count": null,
   "id": "22629fb8",
   "metadata": {},
   "outputs": [],
   "source": []
  }
 ],
 "metadata": {
  "kernelspec": {
   "display_name": "Python 3",
   "language": "python",
   "name": "python3"
  },
  "language_info": {
   "codemirror_mode": {
    "name": "ipython",
    "version": 3
   },
   "file_extension": ".py",
   "mimetype": "text/x-python",
   "name": "python",
   "nbconvert_exporter": "python",
   "pygments_lexer": "ipython3",
   "version": "3.9.6"
  },
  "toc": {
   "base_numbering": 1,
   "nav_menu": {},
   "number_sections": true,
   "sideBar": true,
   "skip_h1_title": false,
   "title_cell": "Table of Contents",
   "title_sidebar": "Contents",
   "toc_cell": false,
   "toc_position": {},
   "toc_section_display": true,
   "toc_window_display": false
  },
  "varInspector": {
   "cols": {
    "lenName": 16,
    "lenType": 16,
    "lenVar": 40
   },
   "kernels_config": {
    "python": {
     "delete_cmd_postfix": "",
     "delete_cmd_prefix": "del ",
     "library": "var_list.py",
     "varRefreshCmd": "print(var_dic_list())"
    },
    "r": {
     "delete_cmd_postfix": ") ",
     "delete_cmd_prefix": "rm(",
     "library": "var_list.r",
     "varRefreshCmd": "cat(var_dic_list()) "
    }
   },
   "types_to_exclude": [
    "module",
    "function",
    "builtin_function_or_method",
    "instance",
    "_Feature"
   ],
   "window_display": false
  }
 },
 "nbformat": 4,
 "nbformat_minor": 5
}
