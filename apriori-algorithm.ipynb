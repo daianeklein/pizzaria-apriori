{
 "cells": [
  {
   "cell_type": "markdown",
   "id": "a7011f4f",
   "metadata": {},
   "source": [
    "# APRIORI"
   ]
  },
  {
   "cell_type": "markdown",
   "id": "e2f717f5",
   "metadata": {},
   "source": [
    "## ALGORITMO DE ASSOCIAÇÃO"
   ]
  },
  {
   "cell_type": "code",
   "execution_count": null,
   "id": "6290d352",
   "metadata": {},
   "outputs": [],
   "source": []
  },
  {
   "cell_type": "markdown",
   "id": "52b2a330",
   "metadata": {},
   "source": [
    "# LIB's"
   ]
  },
  {
   "cell_type": "code",
   "execution_count": null,
   "id": "a4d9fc61",
   "metadata": {
    "ExecuteTime": {
     "end_time": "2021-08-17T23:26:03.740930Z",
     "start_time": "2021-08-17T23:26:00.680375Z"
    }
   },
   "outputs": [],
   "source": []
  },
  {
   "cell_type": "code",
   "execution_count": 1,
   "id": "00fb972e",
   "metadata": {
    "ExecuteTime": {
     "end_time": "2021-08-19T16:25:34.814963Z",
     "start_time": "2021-08-19T16:25:33.819360Z"
    }
   },
   "outputs": [],
   "source": [
    "import pandas as pd\n",
    "import numpy as np\n",
    "\n",
    "import matplotlib.pyplot as plt\n",
    "\n",
    "import datetime\n",
    "\n",
    "from apyori import apriori"
   ]
  },
  {
   "cell_type": "markdown",
   "id": "2b36d8cc",
   "metadata": {},
   "source": [
    "# DATASET"
   ]
  },
  {
   "cell_type": "code",
   "execution_count": 2,
   "id": "1eddec47",
   "metadata": {
    "ExecuteTime": {
     "end_time": "2021-08-19T16:25:34.855715Z",
     "start_time": "2021-08-19T16:25:34.818553Z"
    }
   },
   "outputs": [
    {
     "data": {
      "text/html": [
       "<div>\n",
       "<style scoped>\n",
       "    .dataframe tbody tr th:only-of-type {\n",
       "        vertical-align: middle;\n",
       "    }\n",
       "\n",
       "    .dataframe tbody tr th {\n",
       "        vertical-align: top;\n",
       "    }\n",
       "\n",
       "    .dataframe thead th {\n",
       "        text-align: right;\n",
       "    }\n",
       "</style>\n",
       "<table border=\"1\" class=\"dataframe\">\n",
       "  <thead>\n",
       "    <tr style=\"text-align: right;\">\n",
       "      <th></th>\n",
       "      <th>data_pedido</th>\n",
       "      <th>hora_pedido</th>\n",
       "      <th>tipo_entrega</th>\n",
       "      <th>tempo_minutos</th>\n",
       "      <th>borda</th>\n",
       "      <th>refrigerante</th>\n",
       "      <th>Sobremesa</th>\n",
       "      <th>valor_pizza</th>\n",
       "      <th>valor_total</th>\n",
       "    </tr>\n",
       "  </thead>\n",
       "  <tbody>\n",
       "    <tr>\n",
       "      <th>0</th>\n",
       "      <td>29/10/2011</td>\n",
       "      <td>21:00:00</td>\n",
       "      <td>Entrega</td>\n",
       "      <td>55</td>\n",
       "      <td>N</td>\n",
       "      <td>N</td>\n",
       "      <td>S</td>\n",
       "      <td>38.5</td>\n",
       "      <td>38.5</td>\n",
       "    </tr>\n",
       "    <tr>\n",
       "      <th>1</th>\n",
       "      <td>29/10/2011</td>\n",
       "      <td>21:10:00</td>\n",
       "      <td>Entrega</td>\n",
       "      <td>45</td>\n",
       "      <td>N</td>\n",
       "      <td>N</td>\n",
       "      <td>S</td>\n",
       "      <td>38.5</td>\n",
       "      <td>38.5</td>\n",
       "    </tr>\n",
       "    <tr>\n",
       "      <th>2</th>\n",
       "      <td>30/10/2011</td>\n",
       "      <td>20:17:00</td>\n",
       "      <td>Entrega</td>\n",
       "      <td>51</td>\n",
       "      <td>N</td>\n",
       "      <td>N</td>\n",
       "      <td>S</td>\n",
       "      <td>38.5</td>\n",
       "      <td>38.5</td>\n",
       "    </tr>\n",
       "    <tr>\n",
       "      <th>3</th>\n",
       "      <td>01/11/2011</td>\n",
       "      <td>21:10:00</td>\n",
       "      <td>Entrega</td>\n",
       "      <td>50</td>\n",
       "      <td>N</td>\n",
       "      <td>S</td>\n",
       "      <td>S</td>\n",
       "      <td>34.0</td>\n",
       "      <td>38.5</td>\n",
       "    </tr>\n",
       "    <tr>\n",
       "      <th>4</th>\n",
       "      <td>04/11/2011</td>\n",
       "      <td>20:37:00</td>\n",
       "      <td>Entrega</td>\n",
       "      <td>33</td>\n",
       "      <td>N</td>\n",
       "      <td>S</td>\n",
       "      <td>S</td>\n",
       "      <td>34.0</td>\n",
       "      <td>38.5</td>\n",
       "    </tr>\n",
       "  </tbody>\n",
       "</table>\n",
       "</div>"
      ],
      "text/plain": [
       "  data_pedido hora_pedido tipo_entrega  tempo_minutos borda refrigerante  \\\n",
       "0  29/10/2011    21:00:00      Entrega             55     N            N   \n",
       "1  29/10/2011    21:10:00      Entrega             45     N            N   \n",
       "2  30/10/2011    20:17:00      Entrega             51     N            N   \n",
       "3  01/11/2011    21:10:00      Entrega             50     N            S   \n",
       "4  04/11/2011    20:37:00      Entrega             33     N            S   \n",
       "\n",
       "  Sobremesa  valor_pizza  valor_total  \n",
       "0         S         38.5         38.5  \n",
       "1         S         38.5         38.5  \n",
       "2         S         38.5         38.5  \n",
       "3         S         34.0         38.5  \n",
       "4         S         34.0         38.5  "
      ]
     },
     "execution_count": 2,
     "metadata": {},
     "output_type": "execute_result"
    }
   ],
   "source": [
    "df = pd.read_csv('data.csv', sep = ';', decimal = ',')\n",
    "df.head()"
   ]
  },
  {
   "cell_type": "code",
   "execution_count": 3,
   "id": "9d3d2f56",
   "metadata": {
    "ExecuteTime": {
     "end_time": "2021-08-19T16:25:34.866760Z",
     "start_time": "2021-08-19T16:25:34.859229Z"
    }
   },
   "outputs": [
    {
     "data": {
      "text/plain": [
       "(1000, 9)"
      ]
     },
     "execution_count": 3,
     "metadata": {},
     "output_type": "execute_result"
    }
   ],
   "source": [
    "df.shape"
   ]
  },
  {
   "cell_type": "code",
   "execution_count": 4,
   "id": "f9b7ae45",
   "metadata": {
    "ExecuteTime": {
     "end_time": "2021-08-19T16:25:34.878503Z",
     "start_time": "2021-08-19T16:25:34.869920Z"
    },
    "scrolled": true
   },
   "outputs": [
    {
     "data": {
      "text/plain": [
       "data_pedido       object\n",
       "hora_pedido       object\n",
       "tipo_entrega      object\n",
       "tempo_minutos      int64\n",
       "borda             object\n",
       "refrigerante      object\n",
       "Sobremesa         object\n",
       "valor_pizza      float64\n",
       "valor_total      float64\n",
       "dtype: object"
      ]
     },
     "execution_count": 4,
     "metadata": {},
     "output_type": "execute_result"
    }
   ],
   "source": [
    "df.dtypes"
   ]
  },
  {
   "cell_type": "markdown",
   "id": "c15c8182",
   "metadata": {},
   "source": [
    "## VARIÁVEIS DE TEMPO"
   ]
  },
  {
   "cell_type": "code",
   "execution_count": 5,
   "id": "f9fdd241",
   "metadata": {
    "ExecuteTime": {
     "end_time": "2021-08-19T16:25:34.894865Z",
     "start_time": "2021-08-19T16:25:34.881396Z"
    }
   },
   "outputs": [],
   "source": [
    "# alterando o tipo de dado da variavel data_pedido\n",
    "df['data_pedido'] = pd.to_datetime(df['data_pedido'], format = ('%d/%m/%Y'))\n",
    "\n",
    "# criando coluna dia da semana\n",
    "df['dia_semana'] = df['data_pedido'].dt.day_name()"
   ]
  },
  {
   "cell_type": "code",
   "execution_count": 6,
   "id": "59874862",
   "metadata": {
    "ExecuteTime": {
     "end_time": "2021-08-19T16:25:34.905703Z",
     "start_time": "2021-08-19T16:25:34.897749Z"
    }
   },
   "outputs": [
    {
     "name": "stdout",
     "output_type": "stream",
     "text": [
      "18:00:00 23:42:00\n"
     ]
    }
   ],
   "source": [
    "# horário dos pedidos\n",
    "print(df['hora_pedido'].min(), df['hora_pedido'].max())"
   ]
  },
  {
   "cell_type": "code",
   "execution_count": 7,
   "id": "18f434cc",
   "metadata": {
    "ExecuteTime": {
     "end_time": "2021-08-19T16:25:34.923249Z",
     "start_time": "2021-08-19T16:25:34.908741Z"
    }
   },
   "outputs": [
    {
     "data": {
      "text/plain": [
       "20    315\n",
       "21    241\n",
       "19    166\n",
       "22    130\n",
       "18    101\n",
       "23     47\n",
       "Name: horario, dtype: int64"
      ]
     },
     "execution_count": 7,
     "metadata": {},
     "output_type": "execute_result"
    }
   ],
   "source": [
    "# 'extraindo' somente a hora\n",
    "df['horario'] = df['hora_pedido'].str.slice(start=0, stop = 2)\n",
    "\n",
    "#contando a qt de ocorrencias\n",
    "df['horario'].value_counts()"
   ]
  },
  {
   "cell_type": "code",
   "execution_count": 8,
   "id": "7161ead9",
   "metadata": {
    "ExecuteTime": {
     "end_time": "2021-08-19T16:25:34.939656Z",
     "start_time": "2021-08-19T16:25:34.928034Z"
    }
   },
   "outputs": [
    {
     "data": {
      "text/plain": [
       "pico - alto     556\n",
       "pico - medio    296\n",
       "pico - baixo    148\n",
       "Name: horario, dtype: int64"
      ]
     },
     "execution_count": 8,
     "metadata": {},
     "output_type": "execute_result"
    }
   ],
   "source": [
    "# notamos que a pizzaria funciona por 6 horas. Dividindo por cada duas horas,\n",
    "# podemos categorizar os horários como horário de pico alto, medio e baixo\n",
    "\n",
    "pico_dict = ({ '20' : 'pico - alto',\n",
    "             '21' : 'pico - alto',\n",
    "             '19' : 'pico - medio',\n",
    "             '22' : 'pico - medio',\n",
    "             '18' : 'pico - baixo',\n",
    "             '23' : 'pico - baixo'})\n",
    "\n",
    "df['horario'] = df['horario'].map(pico_dict)\n",
    "\n",
    "df['horario'].value_counts()"
   ]
  },
  {
   "cell_type": "markdown",
   "id": "eaa6e681",
   "metadata": {},
   "source": [
    "## VARIÁVEL 'BORDA'"
   ]
  },
  {
   "cell_type": "code",
   "execution_count": 10,
   "id": "d0b61225",
   "metadata": {
    "ExecuteTime": {
     "end_time": "2021-08-19T16:25:34.962664Z",
     "start_time": "2021-08-19T16:25:34.954708Z"
    }
   },
   "outputs": [
    {
     "data": {
      "text/plain": [
       "N          849\n",
       "S          126\n",
       "Borda S     18\n",
       "Borda N      7\n",
       "Name: borda, dtype: int64"
      ]
     },
     "execution_count": 10,
     "metadata": {},
     "output_type": "execute_result"
    }
   ],
   "source": [
    "df['borda'].value_counts()"
   ]
  },
  {
   "cell_type": "code",
   "execution_count": 14,
   "id": "7fa61ad1",
   "metadata": {
    "ExecuteTime": {
     "end_time": "2021-08-19T16:27:08.116340Z",
     "start_time": "2021-08-19T16:27:08.108848Z"
    }
   },
   "outputs": [],
   "source": [
    "# tratando a variável borda\n",
    "df['borda'] = df['borda'].apply(lambda x: 'N' if x == 'Borda N'\n",
    "                 else x)\n",
    "\n",
    "df['borda'] = df['borda'].apply(lambda x: 'S' if x == 'Borda S'\n",
    "                 else x)"
   ]
  },
  {
   "cell_type": "code",
   "execution_count": null,
   "id": "569ae6cd",
   "metadata": {
    "ExecuteTime": {
     "end_time": "2021-08-19T16:27:08.371644Z",
     "start_time": "2021-08-19T16:27:08.361660Z"
    }
   },
   "outputs": [],
   "source": []
  },
  {
   "cell_type": "code",
   "execution_count": null,
   "id": "3ed22145",
   "metadata": {},
   "outputs": [],
   "source": []
  }
 ],
 "metadata": {
  "kernelspec": {
   "display_name": "Python 3",
   "language": "python",
   "name": "python3"
  },
  "language_info": {
   "codemirror_mode": {
    "name": "ipython",
    "version": 3
   },
   "file_extension": ".py",
   "mimetype": "text/x-python",
   "name": "python",
   "nbconvert_exporter": "python",
   "pygments_lexer": "ipython3",
   "version": "3.9.6"
  },
  "toc": {
   "base_numbering": 1,
   "nav_menu": {},
   "number_sections": true,
   "sideBar": true,
   "skip_h1_title": false,
   "title_cell": "Table of Contents",
   "title_sidebar": "Contents",
   "toc_cell": false,
   "toc_position": {},
   "toc_section_display": true,
   "toc_window_display": false
  },
  "varInspector": {
   "cols": {
    "lenName": 16,
    "lenType": 16,
    "lenVar": 40
   },
   "kernels_config": {
    "python": {
     "delete_cmd_postfix": "",
     "delete_cmd_prefix": "del ",
     "library": "var_list.py",
     "varRefreshCmd": "print(var_dic_list())"
    },
    "r": {
     "delete_cmd_postfix": ") ",
     "delete_cmd_prefix": "rm(",
     "library": "var_list.r",
     "varRefreshCmd": "cat(var_dic_list()) "
    }
   },
   "types_to_exclude": [
    "module",
    "function",
    "builtin_function_or_method",
    "instance",
    "_Feature"
   ],
   "window_display": false
  }
 },
 "nbformat": 4,
 "nbformat_minor": 5
}
